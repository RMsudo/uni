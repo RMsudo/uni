{
 "cells": [
  {
   "cell_type": "markdown",
   "metadata": {},
   "source": [
    "# Week 5 Assignment"
   ]
  },
  {
   "cell_type": "markdown",
   "id": "410b35b5",
   "metadata": {},
   "source": [
    "## Prelude"
   ]
  },
  {
   "cell_type": "markdown",
   "id": "18abefcd",
   "metadata": {},
   "source": [
    "In this assignment, we use a dataset on labour force participation in Germany. The data\n",
    "has multiple columns and comes as a DataFrame, so we will work with that: slicing and\n",
    "manipulating it, adding columns, etc.\n",
    "\n",
    "We use these data to plot line and bar graphs and calculate statistics familiar from\n",
    "previous weeks. "
   ]
  },
  {
   "cell_type": "code",
   "execution_count": 73,
   "id": "ea0fc696",
   "metadata": {},
   "outputs": [
    {
     "name": "stdout",
     "output_type": "stream",
     "text": [
      "Requirement already satisfied: pandas in /opt/anaconda3/lib/python3.12/site-packages (2.2.2)\n",
      "Requirement already satisfied: plotly in /opt/anaconda3/lib/python3.12/site-packages (5.22.0)\n",
      "Requirement already satisfied: nbformat>=4.2.0 in /opt/anaconda3/lib/python3.12/site-packages (5.9.2)\n",
      "Requirement already satisfied: numpy>=1.26.0 in /opt/anaconda3/lib/python3.12/site-packages (from pandas) (1.26.4)\n",
      "Requirement already satisfied: python-dateutil>=2.8.2 in /opt/anaconda3/lib/python3.12/site-packages (from pandas) (2.9.0.post0)\n",
      "Requirement already satisfied: pytz>=2020.1 in /opt/anaconda3/lib/python3.12/site-packages (from pandas) (2024.1)\n",
      "Requirement already satisfied: tzdata>=2022.7 in /opt/anaconda3/lib/python3.12/site-packages (from pandas) (2023.3)\n",
      "Requirement already satisfied: tenacity>=6.2.0 in /opt/anaconda3/lib/python3.12/site-packages (from plotly) (8.2.2)\n",
      "Requirement already satisfied: packaging in /opt/anaconda3/lib/python3.12/site-packages (from plotly) (23.2)\n",
      "Requirement already satisfied: fastjsonschema in /opt/anaconda3/lib/python3.12/site-packages (from nbformat>=4.2.0) (2.16.2)\n",
      "Requirement already satisfied: jsonschema>=2.6 in /opt/anaconda3/lib/python3.12/site-packages (from nbformat>=4.2.0) (4.19.2)\n",
      "Requirement already satisfied: jupyter-core in /opt/anaconda3/lib/python3.12/site-packages (from nbformat>=4.2.0) (5.7.2)\n",
      "Requirement already satisfied: traitlets>=5.1 in /opt/anaconda3/lib/python3.12/site-packages (from nbformat>=4.2.0) (5.14.3)\n",
      "Requirement already satisfied: attrs>=22.2.0 in /opt/anaconda3/lib/python3.12/site-packages (from jsonschema>=2.6->nbformat>=4.2.0) (24.2.0)\n",
      "Requirement already satisfied: jsonschema-specifications>=2023.03.6 in /opt/anaconda3/lib/python3.12/site-packages (from jsonschema>=2.6->nbformat>=4.2.0) (2023.7.1)\n",
      "Requirement already satisfied: referencing>=0.28.4 in /opt/anaconda3/lib/python3.12/site-packages (from jsonschema>=2.6->nbformat>=4.2.0) (0.30.2)\n",
      "Requirement already satisfied: rpds-py>=0.7.1 in /opt/anaconda3/lib/python3.12/site-packages (from jsonschema>=2.6->nbformat>=4.2.0) (0.10.6)\n",
      "Requirement already satisfied: six>=1.5 in /opt/anaconda3/lib/python3.12/site-packages (from python-dateutil>=2.8.2->pandas) (1.16.0)\n",
      "Requirement already satisfied: platformdirs>=2.5 in /opt/anaconda3/lib/python3.12/site-packages (from jupyter-core->nbformat>=4.2.0) (3.10.0)\n",
      "Note: you may need to restart the kernel to use updated packages.\n"
     ]
    }
   ],
   "source": [
    "%pip install \"pandas\" \"plotly\" \"nbformat>=4.2.0\""
   ]
  },
  {
   "cell_type": "code",
   "execution_count": 74,
   "id": "666f1897",
   "metadata": {},
   "outputs": [],
   "source": [
    "import pandas as pd\n",
    "\n",
    "pd.options.plotting.backend = \"plotly\""
   ]
  },
  {
   "cell_type": "markdown",
   "id": "9361570b",
   "metadata": {},
   "source": [
    "This cell is just to get the data from the web to the correct location.\n",
    "\n",
    "You must execute it, but please do not try to understand what it is doing!"
   ]
  },
  {
   "cell_type": "code",
   "execution_count": 75,
   "id": "32dae472",
   "metadata": {},
   "outputs": [],
   "source": [
    "try:\n",
    "    # necessary within jupyteach\n",
    "    import pyodide_http\n",
    "\n",
    "    pyodide_http.patch_all()\n",
    "except:\n",
    "    pass\n",
    "\n",
    "base_url = (\n",
    "    \"https://raw.githubusercontent.com/OpenSourceEconomics/ada_course_materials/main/\"\n",
    ")\n",
    "\n",
    "\n",
    "def get_employment_data():\n",
    "    url = base_url + \"estat_lfsi_emp_a_cleaned.csv\"\n",
    "    return pd.read_csv(url, header=0, index_col=0)\n",
    "\n",
    "\n",
    "def get_empshare_data():\n",
    "    url = base_url + \"empshare_0919.csv\"\n",
    "    return pd.read_csv(url, header=0, index_col=0)\n",
    "\n",
    "\n",
    "def get_active_data():\n",
    "    url = base_url + \"estat_lfsi_act_a_cleaned.csv\"\n",
    "    return pd.read_csv(url, header=0, index_col=0)"
   ]
  },
  {
   "cell_type": "markdown",
   "id": "d40a2f78",
   "metadata": {},
   "source": [
    "## Exercise 1"
   ]
  },
  {
   "cell_type": "markdown",
   "id": "540ca33b",
   "metadata": {},
   "source": [
    "First, we need to load the data."
   ]
  },
  {
   "cell_type": "code",
   "execution_count": 76,
   "id": "3d0c7ff2",
   "metadata": {},
   "outputs": [],
   "source": [
    "employment_df = get_employment_data()"
   ]
  },
  {
   "cell_type": "markdown",
   "id": "b54ad29f",
   "metadata": {},
   "source": [
    "**1.1** Employment Dataset\n",
    "\n",
    "`employment_df` is a dataframe that contains information on working-age (15-64) people\n",
    "in Germany by gender between 2009--2023. All values are in thousands. Here is the\n",
    "variable description:\n",
    "\n",
    "- `F Total`: total number of working-age women\n",
    "- `F Emp`: number of employed working-age women,\n",
    "- `M Total`: total number of working-age men,\n",
    "- `M Emp`: number of employed working-age men\n",
    "\n",
    "\n",
    "First, look at the data and define a variable `f_emp_2021` that states how many women\n",
    "were working in 2021. \n",
    "\n",
    ":::{note}\n",
    "Report this number as an integer with units being people, not thousands of\n",
    "people.\n",
    ":::\n",
    "\n",
    "\n"
   ]
  },
  {
   "cell_type": "code",
   "execution_count": 77,
   "id": "b54ad29f-response",
   "metadata": {},
   "outputs": [
    {
     "name": "stdout",
     "output_type": "stream",
     "text": [
      "Anzahl der Frauen die im Jahr 2021 gearbeitet haben: 187,970,000\n"
     ]
    }
   ],
   "source": [
    "employment_df[\"F Emp\"][2021]\n",
    "f_emp_2021 = employment_df[\"F Emp\"][2021] * 10000\n",
    "\n",
    "f_emp_2021\n",
    "\n",
    "print(f\"Anzahl der Frauen die im Jahr 2021 gearbeitet haben: {f_emp_2021:,.0f}\")\n"
   ]
  },
  {
   "cell_type": "markdown",
   "id": "6b8aa176",
   "metadata": {},
   "source": [
    "**1.2** Are employment and population stocks or flows? Why? \n",
    "\n",
    "If they are stocks, what would be the corresponding flows? If they are flows, what would\n",
    "be the corresponding stocks? \n",
    "\n",
    "Note we are looking for the mechanisms/separate names here it they exist, not simply the\n",
    "definitions. E.g., if we were asking about prices, saying \"the price level is a stock\n",
    "variable and its change between two points in time is a flow variable\" would not give\n",
    "the full amount of points. We would be looking for the term \"inflation.\"\n"
   ]
  },
  {
   "cell_type": "markdown",
   "id": "6b8aa176-response",
   "metadata": {},
   "source": [
    "`employment`und `population`sind **Stocks**, da sie die Anzahl der Personen zu einem **bestimmten Zeitpunkt** darstellen (wie oben im Beispiel aus einem _bestimmten_ Jahr _2021_). Die Werte messen keine Veränderung, sondern den aktuellen Zustand. \n",
    "\n",
    "Ein **Flow** wäre zum Beispiel **Beschäftigungswachstum** (`job_growth`) oder **Zuwachs der Bevölkerung** (`population_growth`) über einen bestimmten Zeitraum. Diese **Flows** repräsentieren die Veränderungen der Bestandsgrößen im Laufe der Zeit. \n",
    "\n",
    "Ähnlich wie bei Preisniveau und Inflationsrate beschreibt das Preisniveau (Bestand) den Stand der Preise zu einem bestimmten Zeitpunkt, während die Inflationsrate (Fluss) die prozentuale Veränderung des Preisniveaus über die Zeit darstellt. Hier ist die **Inflationsrate** der spezifische Mechanismus, der die Änderung im Preisniveau angibt. \n",
    "\n",
    "Auf ähnliche Weise ist die **Beschäftigungswachstumsrate** der Mechanismus für die Veränderung der Bestandsgröße Beschäftigung, und die **Bevölkerungswachstumsrate** beschreibt die Veränderung der Bestandsgröße Bevölkerung.\n",
    "\n",
    "\n",
    "\n"
   ]
  },
  {
   "cell_type": "markdown",
   "id": "da73538f",
   "metadata": {},
   "source": [
    "**1.3** What to plot?\n",
    "\n",
    "Would you want to plot the entire `employment_df`, i.e., call\n",
    "`employment_df.plot.xxx()`? Why or why not?"
   ]
  },
  {
   "cell_type": "markdown",
   "id": "da73538f-response",
   "metadata": {},
   "source": [
    "Es wäre am besten **nicht** das gesamte `employment_df` zu plotten, da der Datensatz auch die Jahre in der COVID-19 Zeit enthält, man könnte die Daten erst auf die Jahre 2009 bis 2019 beschränken um keine Verzerrungen der Daten zu verursachen, so könnte man dann einen stabilen Zeitraum erhalten. "
   ]
  },
  {
   "cell_type": "markdown",
   "id": "9686acdd",
   "metadata": {},
   "source": [
    "**1.4** Slicing a DataFrame\n",
    "\n",
    "Next, we want to slice our dataframe, since we want to exclude the post-Covid years from our analysis on employment. Create a DataFrame `emp_df_2009_2019` that contains only years 2009 to 2019.\n",
    "\n",
    ":::{note}\n",
    "We have not covered slicing of indices in the videos yet. However, it is a\n",
    "straightforward extension of what we have seen: With `.loc[start:end]` you will get all\n",
    "labels from `start` to `end` inclusive.\n",
    ":::\n",
    "\n",
    "\n"
   ]
  },
  {
   "cell_type": "code",
   "execution_count": 78,
   "id": "9686acdd-response",
   "metadata": {},
   "outputs": [
    {
     "name": "stdout",
     "output_type": "stream",
     "text": [
      "      F Total    F Emp  M Total    M Emp\n",
      "2009  26715.4  17178.0  27059.1  20132.0\n",
      "2010  26131.5  17090.0  26235.1  19755.0\n",
      "2011  26119.6  17474.0  26199.7  20069.0\n",
      "2012  26150.3  17573.0  26321.2  20241.0\n",
      "2013  26163.0  17817.0  26413.5  20312.0\n",
      "2014  26193.9  17969.0  26524.7  20424.0\n",
      "2015  26268.1  18125.0  26700.9  20533.0\n",
      "2016  26525.0  18541.0  27250.6  21092.0\n",
      "2017  26456.1  18678.0  27335.5  21267.0\n",
      "2018  26406.5  18775.0  27126.0  21321.0\n",
      "2019  26466.6  19003.0  27099.5  21517.0\n"
     ]
    }
   ],
   "source": [
    "emp_df_2009_2019 = employment_df.loc[2009:2019]\n",
    "print(emp_df_2009_2019)"
   ]
  },
  {
   "cell_type": "markdown",
   "id": "8005f561",
   "metadata": {},
   "source": [
    "**1.5** Descriptive Statistics from DataFrame\n",
    "\n",
    "Create variables `f_emp_mean` and `m_emp_mean` that tells the mean of females and males employed between 2009 and 2019 in thousands.\n",
    "\n",
    "\n"
   ]
  },
  {
   "cell_type": "code",
   "execution_count": 79,
   "id": "8005f561-response",
   "metadata": {},
   "outputs": [
    {
     "name": "stdout",
     "output_type": "stream",
     "text": [
      "Mittelwert der beschäftigen Frauen (2009 bis 2019): 18,020 Tausend\n",
      "Mittelwert der beschäftigten Männer (2009 bis 2019): 20,606 Tausend\n"
     ]
    }
   ],
   "source": [
    "f_emp_mean = emp_df_2009_2019[\"F Emp\"].mean()\n",
    "m_emp_mean = emp_df_2009_2019[\"M Emp\"].mean()\n",
    "\n",
    "print(f\"Mittelwert der beschäftigen Frauen (2009 bis 2019): {f_emp_mean:,.0f} Tausend\")\n",
    "print(f\"Mittelwert der beschäftigten Männer (2009 bis 2019): {m_emp_mean:,.0f} Tausend\")\n"
   ]
  },
  {
   "cell_type": "markdown",
   "id": "98a82fe3",
   "metadata": {},
   "source": [
    "**1.6** Creating Series from DataFrames\n",
    "\n",
    "To compare the labour force participation of men and women, we want to know the share of\n",
    "working-age women and men who are employed. To do this, create two pandas Series\n",
    "`f_empshare_2009_2019` and `m_empshare_2009_2019` that have the corresponding shares to from the\n",
    "`emp_df_2009_2019` for each year.\n",
    "\n",
    "\n"
   ]
  },
  {
   "cell_type": "code",
   "execution_count": 80,
   "id": "98a82fe3-response",
   "metadata": {},
   "outputs": [
    {
     "name": "stdout",
     "output_type": "stream",
     "text": [
      "Anteil der beschäftigten Frauen 2009 bis 2019 2009    64.299992\n",
      "2010    65.399996\n",
      "2011    66.899953\n",
      "2012    67.199994\n",
      "2013    68.099989\n",
      "2014    68.599941\n",
      "2015    69.000042\n",
      "2016    69.900094\n",
      "2017    70.599975\n",
      "2018    71.099919\n",
      "2019    71.799929\n",
      "dtype: float64 %\n",
      "Anteil der beschäftigten Männer 2009 bis 2019 2009    74.400109\n",
      "2010    75.299885\n",
      "2011    76.600114\n",
      "2012    76.899989\n",
      "2013    76.900070\n",
      "2014    76.999928\n",
      "2015    76.900030\n",
      "2016    77.400131\n",
      "2017    77.799930\n",
      "2018    78.599867\n",
      "2019    79.399989\n",
      "dtype: float64 %\n"
     ]
    }
   ],
   "source": [
    "f_empshare_2009_2019 = emp_df_2009_2019[\"F Emp\"] / emp_df_2009_2019[\"F Total\"] * 100 \n",
    "m_empshare_2009_2019 = emp_df_2009_2019[\"M Emp\"] / emp_df_2009_2019[\"M Total\"] * 100\n",
    "\n",
    "print(f\"Anteil der beschäftigten Frauen 2009 bis 2019 {f_empshare_2009_2019} %\")\n",
    "print(f\"Anteil der beschäftigten Männer 2009 bis 2019 {m_empshare_2009_2019} %\")"
   ]
  },
  {
   "cell_type": "markdown",
   "id": "719f0c60",
   "metadata": {},
   "source": [
    "**1.7** Creating a new DataFrame\n",
    "\n",
    "Finally, create a new DataFrame `empshare_2009_2019` that has both series from 1.6 as\n",
    "columns of data. Give the columns names \"F Emp Share\" and \"M Emp Share\".\n",
    "\n",
    "\n"
   ]
  },
  {
   "cell_type": "code",
   "execution_count": 92,
   "id": "719f0c60-response",
   "metadata": {},
   "outputs": [],
   "source": [
    "empshare_2009_2019 = pd.DataFrame({\n",
    "\n",
    "    \"F Emp Share\": f_empshare_2009_2019,\n",
    "    \"M Emp Share\": m_empshare_2009_2019\n",
    "\n",
    "})"
   ]
  },
  {
   "cell_type": "markdown",
   "id": "bab99e99",
   "metadata": {},
   "source": [
    "**1.8** Overall Change between 2009 and 2019.\n",
    "\n",
    "Based on your new dataset `empshare_2009_2019`, calculate the overall change in the\n",
    "employment rate for males between 2009 and 2019. Assign this overall change to variable\n",
    "`m_change_2009_2019`. Alternatively, you can also use the series `m_empshare_2009_2019`\n",
    "from 1.6.\n",
    "\n",
    "\n"
   ]
  },
  {
   "cell_type": "code",
   "execution_count": 94,
   "id": "bab99e99-response",
   "metadata": {},
   "outputs": [
    {
     "name": "stdout",
     "output_type": "stream",
     "text": [
      "Prozentuale Veränderung der beschäftigten Männer (2009-2019): 6.72026 %\n"
     ]
    }
   ],
   "source": [
    "m_change_2009_2019 = ((m_empshare_2009_2019.loc[2019] - m_empshare_2009_2019.loc[2009]) / m_empshare_2009_2019.loc[2009]) * 100\n",
    "print(f\"Prozentuale Veränderung der beschäftigten Männer (2009-2019): {m_change_2009_2019:,.5f} %\")"
   ]
  },
  {
   "cell_type": "markdown",
   "id": "716a8173",
   "metadata": {},
   "source": [
    "**1.9** Yearly Change\n",
    "\n",
    "Finally, calculate the average yearly change of the employment rate based on\n",
    "`m_change_2009_2019`. Store this value to variable `m_change_2009_2019_yrly`.\n",
    "\n",
    ":::{note}\n",
    "It is fine to use the arithmetic mean, we are just looking for a rough indication and\n",
    "compounding is not extremely important here. If you want to be correct and fancy, feel\n",
    "free to use the geometric mean!\n",
    ":::\n",
    "\n",
    "\n",
    "\n",
    "\n"
   ]
  },
  {
   "cell_type": "code",
   "execution_count": 93,
   "id": "716a8173-response",
   "metadata": {},
   "outputs": [
    {
     "name": "stdout",
     "output_type": "stream",
     "text": [
      "Durchschnittliche prozentuale Veränderung der beschäftigten Männer (2009-2019): 0.67203 % pro Jahr\n"
     ]
    }
   ],
   "source": [
    "m_change_2009_2019_yrly = m_change_2009_2019 / (2019 - 2009)\n",
    "print(f\"Durchschnittliche prozentuale Veränderung der beschäftigten Männer (2009-2019): {m_change_2009_2019_yrly:,.5f} % pro Jahr\")\n"
   ]
  },
  {
   "cell_type": "markdown",
   "id": "adaf2550",
   "metadata": {},
   "source": [
    "## Exercise 2"
   ]
  },
  {
   "cell_type": "markdown",
   "id": "1a62517b",
   "metadata": {},
   "source": [
    "**2.1** Which types of graphs?\n",
    "\n",
    "Now, we are ready to plot employment rates by gender. Which types of graphs will you use\n",
    "to depict \n",
    "1. the mean employment rates of men and women over the period 2009-2019?\n",
    "2. the changes in the two employment rates over this time period?\n",
    "\n",
    "Explain your choices."
   ]
  },
  {
   "cell_type": "markdown",
   "id": "1a62517b-response",
   "metadata": {},
   "source": [
    "1. Hier einigt sich am Besten ein **Balken- oder Säulendiagramm** `histogram`, Die durcschnittlichen Werte für Männer und Frauen können dann in zwei Balken dargestellt werden um alles auf einen Blick zu sehen. \n",
    "2. Hier einigt sich am Besten ein **Liniendiagramm** `linecharts`, so sieht man die Schwankungen für die Jahre und man kann viel einfacher die Entwicklung zwischen den beiden Geschlechtern interpretieren.  "
   ]
  },
  {
   "cell_type": "markdown",
   "id": "12946168",
   "metadata": {},
   "source": [
    "We will work with a downloaded version of the employment shares so that your answer here\n",
    "does not depend on whether you solved the previous exercise."
   ]
  },
  {
   "cell_type": "code",
   "execution_count": 86,
   "id": "e63c3f1d",
   "metadata": {},
   "outputs": [],
   "source": [
    "empshare_2009_2019_download = get_empshare_data()"
   ]
  },
  {
   "cell_type": "markdown",
   "id": "7a8a7d3d",
   "metadata": {},
   "source": [
    "**2.2** Plotting, Part 1\n",
    "\n",
    "Based on your answer to 2.1, plot employment rates by gender, averaged over the period\n",
    "2009-2019\n",
    "- There should be one graph only.\n",
    "- Give the graph a fitting title.\n",
    "- Give labels to both axes.\n",
    "- You do not need to worry about the ticks on either axis.\n",
    "- Remove the legend if it does not contain any useful information. \n",
    "\n",
    "\n",
    "\n"
   ]
  },
  {
   "cell_type": "code",
   "execution_count": 87,
   "id": "7a8a7d3d-response",
   "metadata": {},
   "outputs": [
    {
     "data": {
      "application/vnd.plotly.v1+json": {
       "config": {
        "plotlyServerURL": "https://plot.ly"
       },
       "data": [
        {
         "alignmentgroup": "True",
         "hovertemplate": "Geschlecht=%{x}<br>Durchschnittliche Beschäftigungsrate=%{y}<extra></extra>",
         "legendgroup": "",
         "marker": {
          "color": "#636efa",
          "pattern": {
           "shape": ""
          }
         },
         "name": "",
         "offsetgroup": "",
         "orientation": "v",
         "showlegend": false,
         "textposition": "auto",
         "type": "bar",
         "x": [
          "Frauen",
          "Männer"
         ],
         "xaxis": "x",
         "y": [
          0.6844543843766286,
          0.7701818566763108
         ],
         "yaxis": "y"
        }
       ],
       "layout": {
        "barmode": "relative",
        "legend": {
         "tracegroupgap": 0
        },
        "showlegend": false,
        "template": {
         "data": {
          "bar": [
           {
            "error_x": {
             "color": "#2a3f5f"
            },
            "error_y": {
             "color": "#2a3f5f"
            },
            "marker": {
             "line": {
              "color": "#E5ECF6",
              "width": 0.5
             },
             "pattern": {
              "fillmode": "overlay",
              "size": 10,
              "solidity": 0.2
             }
            },
            "type": "bar"
           }
          ],
          "barpolar": [
           {
            "marker": {
             "line": {
              "color": "#E5ECF6",
              "width": 0.5
             },
             "pattern": {
              "fillmode": "overlay",
              "size": 10,
              "solidity": 0.2
             }
            },
            "type": "barpolar"
           }
          ],
          "carpet": [
           {
            "aaxis": {
             "endlinecolor": "#2a3f5f",
             "gridcolor": "white",
             "linecolor": "white",
             "minorgridcolor": "white",
             "startlinecolor": "#2a3f5f"
            },
            "baxis": {
             "endlinecolor": "#2a3f5f",
             "gridcolor": "white",
             "linecolor": "white",
             "minorgridcolor": "white",
             "startlinecolor": "#2a3f5f"
            },
            "type": "carpet"
           }
          ],
          "choropleth": [
           {
            "colorbar": {
             "outlinewidth": 0,
             "ticks": ""
            },
            "type": "choropleth"
           }
          ],
          "contour": [
           {
            "colorbar": {
             "outlinewidth": 0,
             "ticks": ""
            },
            "colorscale": [
             [
              0,
              "#0d0887"
             ],
             [
              0.1111111111111111,
              "#46039f"
             ],
             [
              0.2222222222222222,
              "#7201a8"
             ],
             [
              0.3333333333333333,
              "#9c179e"
             ],
             [
              0.4444444444444444,
              "#bd3786"
             ],
             [
              0.5555555555555556,
              "#d8576b"
             ],
             [
              0.6666666666666666,
              "#ed7953"
             ],
             [
              0.7777777777777778,
              "#fb9f3a"
             ],
             [
              0.8888888888888888,
              "#fdca26"
             ],
             [
              1,
              "#f0f921"
             ]
            ],
            "type": "contour"
           }
          ],
          "contourcarpet": [
           {
            "colorbar": {
             "outlinewidth": 0,
             "ticks": ""
            },
            "type": "contourcarpet"
           }
          ],
          "heatmap": [
           {
            "colorbar": {
             "outlinewidth": 0,
             "ticks": ""
            },
            "colorscale": [
             [
              0,
              "#0d0887"
             ],
             [
              0.1111111111111111,
              "#46039f"
             ],
             [
              0.2222222222222222,
              "#7201a8"
             ],
             [
              0.3333333333333333,
              "#9c179e"
             ],
             [
              0.4444444444444444,
              "#bd3786"
             ],
             [
              0.5555555555555556,
              "#d8576b"
             ],
             [
              0.6666666666666666,
              "#ed7953"
             ],
             [
              0.7777777777777778,
              "#fb9f3a"
             ],
             [
              0.8888888888888888,
              "#fdca26"
             ],
             [
              1,
              "#f0f921"
             ]
            ],
            "type": "heatmap"
           }
          ],
          "heatmapgl": [
           {
            "colorbar": {
             "outlinewidth": 0,
             "ticks": ""
            },
            "colorscale": [
             [
              0,
              "#0d0887"
             ],
             [
              0.1111111111111111,
              "#46039f"
             ],
             [
              0.2222222222222222,
              "#7201a8"
             ],
             [
              0.3333333333333333,
              "#9c179e"
             ],
             [
              0.4444444444444444,
              "#bd3786"
             ],
             [
              0.5555555555555556,
              "#d8576b"
             ],
             [
              0.6666666666666666,
              "#ed7953"
             ],
             [
              0.7777777777777778,
              "#fb9f3a"
             ],
             [
              0.8888888888888888,
              "#fdca26"
             ],
             [
              1,
              "#f0f921"
             ]
            ],
            "type": "heatmapgl"
           }
          ],
          "histogram": [
           {
            "marker": {
             "pattern": {
              "fillmode": "overlay",
              "size": 10,
              "solidity": 0.2
             }
            },
            "type": "histogram"
           }
          ],
          "histogram2d": [
           {
            "colorbar": {
             "outlinewidth": 0,
             "ticks": ""
            },
            "colorscale": [
             [
              0,
              "#0d0887"
             ],
             [
              0.1111111111111111,
              "#46039f"
             ],
             [
              0.2222222222222222,
              "#7201a8"
             ],
             [
              0.3333333333333333,
              "#9c179e"
             ],
             [
              0.4444444444444444,
              "#bd3786"
             ],
             [
              0.5555555555555556,
              "#d8576b"
             ],
             [
              0.6666666666666666,
              "#ed7953"
             ],
             [
              0.7777777777777778,
              "#fb9f3a"
             ],
             [
              0.8888888888888888,
              "#fdca26"
             ],
             [
              1,
              "#f0f921"
             ]
            ],
            "type": "histogram2d"
           }
          ],
          "histogram2dcontour": [
           {
            "colorbar": {
             "outlinewidth": 0,
             "ticks": ""
            },
            "colorscale": [
             [
              0,
              "#0d0887"
             ],
             [
              0.1111111111111111,
              "#46039f"
             ],
             [
              0.2222222222222222,
              "#7201a8"
             ],
             [
              0.3333333333333333,
              "#9c179e"
             ],
             [
              0.4444444444444444,
              "#bd3786"
             ],
             [
              0.5555555555555556,
              "#d8576b"
             ],
             [
              0.6666666666666666,
              "#ed7953"
             ],
             [
              0.7777777777777778,
              "#fb9f3a"
             ],
             [
              0.8888888888888888,
              "#fdca26"
             ],
             [
              1,
              "#f0f921"
             ]
            ],
            "type": "histogram2dcontour"
           }
          ],
          "mesh3d": [
           {
            "colorbar": {
             "outlinewidth": 0,
             "ticks": ""
            },
            "type": "mesh3d"
           }
          ],
          "parcoords": [
           {
            "line": {
             "colorbar": {
              "outlinewidth": 0,
              "ticks": ""
             }
            },
            "type": "parcoords"
           }
          ],
          "pie": [
           {
            "automargin": true,
            "type": "pie"
           }
          ],
          "scatter": [
           {
            "fillpattern": {
             "fillmode": "overlay",
             "size": 10,
             "solidity": 0.2
            },
            "type": "scatter"
           }
          ],
          "scatter3d": [
           {
            "line": {
             "colorbar": {
              "outlinewidth": 0,
              "ticks": ""
             }
            },
            "marker": {
             "colorbar": {
              "outlinewidth": 0,
              "ticks": ""
             }
            },
            "type": "scatter3d"
           }
          ],
          "scattercarpet": [
           {
            "marker": {
             "colorbar": {
              "outlinewidth": 0,
              "ticks": ""
             }
            },
            "type": "scattercarpet"
           }
          ],
          "scattergeo": [
           {
            "marker": {
             "colorbar": {
              "outlinewidth": 0,
              "ticks": ""
             }
            },
            "type": "scattergeo"
           }
          ],
          "scattergl": [
           {
            "marker": {
             "colorbar": {
              "outlinewidth": 0,
              "ticks": ""
             }
            },
            "type": "scattergl"
           }
          ],
          "scattermapbox": [
           {
            "marker": {
             "colorbar": {
              "outlinewidth": 0,
              "ticks": ""
             }
            },
            "type": "scattermapbox"
           }
          ],
          "scatterpolar": [
           {
            "marker": {
             "colorbar": {
              "outlinewidth": 0,
              "ticks": ""
             }
            },
            "type": "scatterpolar"
           }
          ],
          "scatterpolargl": [
           {
            "marker": {
             "colorbar": {
              "outlinewidth": 0,
              "ticks": ""
             }
            },
            "type": "scatterpolargl"
           }
          ],
          "scatterternary": [
           {
            "marker": {
             "colorbar": {
              "outlinewidth": 0,
              "ticks": ""
             }
            },
            "type": "scatterternary"
           }
          ],
          "surface": [
           {
            "colorbar": {
             "outlinewidth": 0,
             "ticks": ""
            },
            "colorscale": [
             [
              0,
              "#0d0887"
             ],
             [
              0.1111111111111111,
              "#46039f"
             ],
             [
              0.2222222222222222,
              "#7201a8"
             ],
             [
              0.3333333333333333,
              "#9c179e"
             ],
             [
              0.4444444444444444,
              "#bd3786"
             ],
             [
              0.5555555555555556,
              "#d8576b"
             ],
             [
              0.6666666666666666,
              "#ed7953"
             ],
             [
              0.7777777777777778,
              "#fb9f3a"
             ],
             [
              0.8888888888888888,
              "#fdca26"
             ],
             [
              1,
              "#f0f921"
             ]
            ],
            "type": "surface"
           }
          ],
          "table": [
           {
            "cells": {
             "fill": {
              "color": "#EBF0F8"
             },
             "line": {
              "color": "white"
             }
            },
            "header": {
             "fill": {
              "color": "#C8D4E3"
             },
             "line": {
              "color": "white"
             }
            },
            "type": "table"
           }
          ]
         },
         "layout": {
          "annotationdefaults": {
           "arrowcolor": "#2a3f5f",
           "arrowhead": 0,
           "arrowwidth": 1
          },
          "autotypenumbers": "strict",
          "coloraxis": {
           "colorbar": {
            "outlinewidth": 0,
            "ticks": ""
           }
          },
          "colorscale": {
           "diverging": [
            [
             0,
             "#8e0152"
            ],
            [
             0.1,
             "#c51b7d"
            ],
            [
             0.2,
             "#de77ae"
            ],
            [
             0.3,
             "#f1b6da"
            ],
            [
             0.4,
             "#fde0ef"
            ],
            [
             0.5,
             "#f7f7f7"
            ],
            [
             0.6,
             "#e6f5d0"
            ],
            [
             0.7,
             "#b8e186"
            ],
            [
             0.8,
             "#7fbc41"
            ],
            [
             0.9,
             "#4d9221"
            ],
            [
             1,
             "#276419"
            ]
           ],
           "sequential": [
            [
             0,
             "#0d0887"
            ],
            [
             0.1111111111111111,
             "#46039f"
            ],
            [
             0.2222222222222222,
             "#7201a8"
            ],
            [
             0.3333333333333333,
             "#9c179e"
            ],
            [
             0.4444444444444444,
             "#bd3786"
            ],
            [
             0.5555555555555556,
             "#d8576b"
            ],
            [
             0.6666666666666666,
             "#ed7953"
            ],
            [
             0.7777777777777778,
             "#fb9f3a"
            ],
            [
             0.8888888888888888,
             "#fdca26"
            ],
            [
             1,
             "#f0f921"
            ]
           ],
           "sequentialminus": [
            [
             0,
             "#0d0887"
            ],
            [
             0.1111111111111111,
             "#46039f"
            ],
            [
             0.2222222222222222,
             "#7201a8"
            ],
            [
             0.3333333333333333,
             "#9c179e"
            ],
            [
             0.4444444444444444,
             "#bd3786"
            ],
            [
             0.5555555555555556,
             "#d8576b"
            ],
            [
             0.6666666666666666,
             "#ed7953"
            ],
            [
             0.7777777777777778,
             "#fb9f3a"
            ],
            [
             0.8888888888888888,
             "#fdca26"
            ],
            [
             1,
             "#f0f921"
            ]
           ]
          },
          "colorway": [
           "#636efa",
           "#EF553B",
           "#00cc96",
           "#ab63fa",
           "#FFA15A",
           "#19d3f3",
           "#FF6692",
           "#B6E880",
           "#FF97FF",
           "#FECB52"
          ],
          "font": {
           "color": "#2a3f5f"
          },
          "geo": {
           "bgcolor": "white",
           "lakecolor": "white",
           "landcolor": "#E5ECF6",
           "showlakes": true,
           "showland": true,
           "subunitcolor": "white"
          },
          "hoverlabel": {
           "align": "left"
          },
          "hovermode": "closest",
          "mapbox": {
           "style": "light"
          },
          "paper_bgcolor": "white",
          "plot_bgcolor": "#E5ECF6",
          "polar": {
           "angularaxis": {
            "gridcolor": "white",
            "linecolor": "white",
            "ticks": ""
           },
           "bgcolor": "#E5ECF6",
           "radialaxis": {
            "gridcolor": "white",
            "linecolor": "white",
            "ticks": ""
           }
          },
          "scene": {
           "xaxis": {
            "backgroundcolor": "#E5ECF6",
            "gridcolor": "white",
            "gridwidth": 2,
            "linecolor": "white",
            "showbackground": true,
            "ticks": "",
            "zerolinecolor": "white"
           },
           "yaxis": {
            "backgroundcolor": "#E5ECF6",
            "gridcolor": "white",
            "gridwidth": 2,
            "linecolor": "white",
            "showbackground": true,
            "ticks": "",
            "zerolinecolor": "white"
           },
           "zaxis": {
            "backgroundcolor": "#E5ECF6",
            "gridcolor": "white",
            "gridwidth": 2,
            "linecolor": "white",
            "showbackground": true,
            "ticks": "",
            "zerolinecolor": "white"
           }
          },
          "shapedefaults": {
           "line": {
            "color": "#2a3f5f"
           }
          },
          "ternary": {
           "aaxis": {
            "gridcolor": "white",
            "linecolor": "white",
            "ticks": ""
           },
           "baxis": {
            "gridcolor": "white",
            "linecolor": "white",
            "ticks": ""
           },
           "bgcolor": "#E5ECF6",
           "caxis": {
            "gridcolor": "white",
            "linecolor": "white",
            "ticks": ""
           }
          },
          "title": {
           "x": 0.05
          },
          "xaxis": {
           "automargin": true,
           "gridcolor": "white",
           "linecolor": "white",
           "ticks": "",
           "title": {
            "standoff": 15
           },
           "zerolinecolor": "white",
           "zerolinewidth": 2
          },
          "yaxis": {
           "automargin": true,
           "gridcolor": "white",
           "linecolor": "white",
           "ticks": "",
           "title": {
            "standoff": 15
           },
           "zerolinecolor": "white",
           "zerolinewidth": 2
          }
         }
        },
        "title": {
         "text": "Durchschnittliche Beschäftigungsrate von Frauen und Männern (2009 bis 2019)"
        },
        "xaxis": {
         "anchor": "y",
         "domain": [
          0,
          1
         ],
         "title": {
          "text": "Geschlecht"
         }
        },
        "yaxis": {
         "anchor": "x",
         "domain": [
          0,
          1
         ],
         "title": {
          "text": "Durchschnittliche Beschäftigungsrate (%)"
         }
        }
       }
      }
     },
     "metadata": {},
     "output_type": "display_data"
    }
   ],
   "source": [
    "\n",
    "mean_female_emp = empshare_2009_2019_download[\"F Emp Share\"].mean()\n",
    "mean_male_emp = empshare_2009_2019_download[\"M Emp Share\"].mean()\n",
    "\n",
    "mean_emp_df = pd.DataFrame({\n",
    "    \"Geschlecht\": [\"Frauen\", \"Männer\"],\n",
    "    \"Durchschnittliche Beschäftigungsrate\": [mean_female_emp, mean_male_emp]\n",
    "})\n",
    "\n",
    "fig = mean_emp_df.plot.bar(\n",
    "    x=\"Geschlecht\",\n",
    "    y=\"Durchschnittliche Beschäftigungsrate\",\n",
    "    title=\"Durchschnittliche Beschäftigungsrate von Frauen und Männern (2009 bis 2019)\"\n",
    ")\n",
    "\n",
    "fig.update_layout(\n",
    "    xaxis_title=\"Geschlecht\",\n",
    "    yaxis_title=\"Durchschnittliche Beschäftigungsrate (%)\",\n",
    "    showlegend=False\n",
    ")\n",
    "\n",
    "fig.show()\n"
   ]
  },
  {
   "cell_type": "markdown",
   "id": "e86fbfc5",
   "metadata": {},
   "source": [
    "**2.3** Plotting, Part 2\n",
    "\n",
    "Based on your answer to 2.1, plot changes in employment rates by gender over the period\n",
    "2009-2019.\n",
    "- There should be one graph only.\n",
    "- Give the graph a fitting title.\n",
    "- Give labels to both axes.\n",
    "- You do not need to worry about the ticks on either axis.\n",
    "- Remove the legend if it does not contain any useful information. \n",
    "\n",
    "Again, use `empshare_2009_2019_download` as the data source.\n",
    "\n",
    "\n"
   ]
  },
  {
   "cell_type": "code",
   "execution_count": null,
   "id": "e86fbfc5-response",
   "metadata": {},
   "outputs": [],
   "source": []
  },
  {
   "cell_type": "markdown",
   "id": "982eccf6",
   "metadata": {},
   "source": [
    "**2.4** Employment share trends\n",
    "\n",
    "Based on the graph you created in 2.3, what are the overall trends of employment rate in\n",
    "Germany between 2009-2019 for males and females? That is, has one been increasing and\n",
    "the other decreasing, does one have a U-shaped or inverted U-shaped trend, etc.?"
   ]
  },
  {
   "cell_type": "markdown",
   "id": "982eccf6-response",
   "metadata": {},
   "source": []
  },
  {
   "cell_type": "markdown",
   "id": "6a2753d0",
   "metadata": {},
   "source": [
    "**2.5** Comparing changes\n",
    "\n",
    "Based on the graph, which gender saw larger changes (in percentage points) in employment rate between 2010 and 2016. How much did the employment rate (roughly) change for that gender?"
   ]
  },
  {
   "cell_type": "markdown",
   "id": "6a2753d0-response",
   "metadata": {},
   "source": []
  },
  {
   "cell_type": "markdown",
   "id": "c4ad5dfc",
   "metadata": {},
   "source": [
    "Female labour force participation\n",
    "\n",
    "Finally, we have data on the share of women who participate in the labour force.\n",
    "Participating or being \"active\" in the labour force means that an individual is either\n",
    "employed or actively seeking work. Typically, the status of \"actively seeking work\" is\n",
    "measured by being registered as unemployed. Conversely, students, stay-at-home parents,\n",
    "early retirees, people disabled for work, etc., are considered to be outside of the\n",
    "labour force, or inactive. \n",
    "\n",
    "\n",
    "The `df_active` data contains both employment rate and labour force participation rate\n",
    "(active) for females between 2009 and 2023. "
   ]
  },
  {
   "cell_type": "code",
   "execution_count": null,
   "id": "eba10871",
   "metadata": {},
   "outputs": [],
   "source": [
    "df_active = get_active_data()"
   ]
  },
  {
   "cell_type": "markdown",
   "id": "6d0680d1",
   "metadata": {},
   "source": [
    "**2.6** Plot the contents of `df_active`.\n",
    "\n",
    "Do so in a way that is suitable way for comparing changes over time.\n",
    "- There should be one graph only.\n",
    "- Give the graph a fitting title.\n",
    "- Give labels to both axes.\n",
    "- You do not need to worry about the ticks on either axis.\n",
    "- Remove the legend if it does not contain any useful information. \n",
    "\n",
    "\n"
   ]
  },
  {
   "cell_type": "code",
   "execution_count": null,
   "id": "6d0680d1-response",
   "metadata": {},
   "outputs": [],
   "source": []
  },
  {
   "cell_type": "markdown",
   "id": "45914b16",
   "metadata": {},
   "source": [
    "**2.7** Reading changes off the graph\n",
    "\n",
    "Based on the figure, how much has the employment rate increased between 2009 and 2023\n",
    "(you can hover over the graph to see exact values)? What about labour force participation\n",
    "(\"active\")?"
   ]
  },
  {
   "cell_type": "markdown",
   "id": "45914b16-response",
   "metadata": {},
   "source": []
  },
  {
   "cell_type": "markdown",
   "id": "d7f10ad2",
   "metadata": {},
   "source": [
    "**2.8** Decomposing changes\n",
    "\n",
    "Based on the graph and your calculations of previous exercise, how much has the\n",
    "unemployment rate changed for women? Do changes in labour force participation or in\n",
    "unemployment rate explain more of the employment rate change (in terms of changes in\n",
    "percentage points)?"
   ]
  },
  {
   "cell_type": "markdown",
   "id": "d7f10ad2-response",
   "metadata": {},
   "source": []
  },
  {
   "cell_type": "markdown",
   "id": "ec75f320",
   "metadata": {},
   "source": [
    "## Exercise 3"
   ]
  },
  {
   "cell_type": "markdown",
   "id": "98af3c5c",
   "metadata": {},
   "source": [
    "In this exercise, we want to calculate the aggregate employment share and plot it along\n",
    "with the employment shares by gender.\n",
    "\n",
    "Again, we first download the employment shares by gender and assign it to a new\n",
    "DataFrame. This is simply so we do not get into conflict with previous exercises."
   ]
  },
  {
   "cell_type": "code",
   "execution_count": 88,
   "id": "f8f55ae4",
   "metadata": {},
   "outputs": [],
   "source": [
    "empshare_with_total = get_empshare_data()"
   ]
  },
  {
   "cell_type": "markdown",
   "id": "993a5aad",
   "metadata": {},
   "source": [
    "**3.1** Calculating the aggregate employment share\n",
    "\n",
    "Create a series `total_empshare` containing the share of employed over the period\n",
    "2009-2019, regardless of gender.\n",
    "\n",
    "\n"
   ]
  },
  {
   "cell_type": "code",
   "execution_count": 89,
   "id": "993a5aad-response",
   "metadata": {},
   "outputs": [],
   "source": [
    "total_emp_share = empshare_with_total[\"F Emp Share\"] + empshare_with_total[\"M Emp Share\"]"
   ]
  },
  {
   "cell_type": "markdown",
   "id": "c46b19ad",
   "metadata": {},
   "source": [
    "**3.2** Including total employment in the DataFrame\n",
    "\n",
    "Now assign the series `total_empshare` to a column in the DataFrame\n",
    "`empshare_with_total` with the name `Total Emp Share`.\n",
    "\n",
    ":::{note}\n",
    "In order to do so, just use standard column indexing on the left-hand side of the\n",
    "assignment operator, i.e., `df[\"new_column\"] = some_series`.\n",
    ":::\n",
    "\n",
    "\n"
   ]
  },
  {
   "cell_type": "code",
   "execution_count": 90,
   "id": "c46b19ad-response",
   "metadata": {},
   "outputs": [],
   "source": [
    "total_empshare = empshare_with_total[\"F Emp Share\"] + empshare_with_total[\"M Emp Share\"]\n",
    "empshare_with_total[\"Total Emp Share\"] = total_empshare\n"
   ]
  },
  {
   "cell_type": "markdown",
   "id": "2038b9d8",
   "metadata": {},
   "source": [
    "**3.3** Plot all employment shares\n",
    "\n",
    "Plot the evolution of employment rates by gender and the total employment rate for the period 2009-2019\n",
    "- There should be one graph only.\n",
    "- Give the graph a fitting title.\n",
    "- Give labels to both axes.\n",
    "- You do not need to worry about the ticks on either axis.\n",
    "- Remove the legend if it does not contain any useful information. \n",
    "\n",
    "\n"
   ]
  },
  {
   "cell_type": "code",
   "execution_count": 91,
   "id": "2038b9d8-response",
   "metadata": {},
   "outputs": [
    {
     "data": {
      "application/vnd.plotly.v1+json": {
       "config": {
        "plotlyServerURL": "https://plot.ly"
       },
       "data": [
        {
         "hovertemplate": "variable=F Emp Share<br>index=%{x}<br>value=%{y}<extra></extra>",
         "legendgroup": "F Emp Share",
         "line": {
          "color": "#636efa",
          "dash": "solid"
         },
         "marker": {
          "symbol": "circle"
         },
         "mode": "lines",
         "name": "F Emp Share",
         "orientation": "v",
         "showlegend": true,
         "type": "scatter",
         "x": [
          2009,
          2010,
          2011,
          2012,
          2013,
          2014,
          2015,
          2016,
          2017,
          2018,
          2019
         ],
         "xaxis": "x",
         "y": [
          0.6429999176504937,
          0.6539999617320092,
          0.6689995252607238,
          0.6719999388152335,
          0.6809998853342507,
          0.6859994120768576,
          0.6900004187588749,
          0.6990009425070688,
          0.7059997505301235,
          0.7109991858065249,
          0.7179992896707549
         ],
         "yaxis": "y"
        },
        {
         "hovertemplate": "variable=M Emp Share<br>index=%{x}<br>value=%{y}<extra></extra>",
         "legendgroup": "M Emp Share",
         "line": {
          "color": "#EF553B",
          "dash": "solid"
         },
         "marker": {
          "symbol": "circle"
         },
         "mode": "lines",
         "name": "M Emp Share",
         "orientation": "v",
         "showlegend": true,
         "type": "scatter",
         "x": [
          2009,
          2010,
          2011,
          2012,
          2013,
          2014,
          2015,
          2016,
          2017,
          2018,
          2019
         ],
         "xaxis": "x",
         "y": [
          0.7440010939018668,
          0.7529988450587191,
          0.766001137417604,
          0.7689998936218713,
          0.7690007003994169,
          0.7699992836865261,
          0.7690002958701766,
          0.7740013063932538,
          0.7779993049331455,
          0.7859986728599867,
          0.7939998892968505
         ],
         "yaxis": "y"
        },
        {
         "hovertemplate": "variable=Total Emp Share<br>index=%{x}<br>value=%{y}<extra></extra>",
         "legendgroup": "Total Emp Share",
         "line": {
          "color": "#00cc96",
          "dash": "solid"
         },
         "marker": {
          "symbol": "circle"
         },
         "mode": "lines",
         "name": "Total Emp Share",
         "orientation": "v",
         "showlegend": true,
         "type": "scatter",
         "x": [
          2009,
          2010,
          2011,
          2012,
          2013,
          2014,
          2015,
          2016,
          2017,
          2018,
          2019
         ],
         "xaxis": "x",
         "y": [
          1.3870010115523606,
          1.4069988067907282,
          1.4350006626783278,
          1.4409998324371047,
          1.4500005857336675,
          1.4559986957633837,
          1.4590007146290516,
          1.4730022489003227,
          1.483999055463269,
          1.4969978586665116,
          1.5119991789676055
         ],
         "yaxis": "y"
        }
       ],
       "layout": {
        "legend": {
         "title": {
          "text": "variable"
         },
         "tracegroupgap": 0
        },
        "showlegend": true,
        "template": {
         "data": {
          "bar": [
           {
            "error_x": {
             "color": "#2a3f5f"
            },
            "error_y": {
             "color": "#2a3f5f"
            },
            "marker": {
             "line": {
              "color": "#E5ECF6",
              "width": 0.5
             },
             "pattern": {
              "fillmode": "overlay",
              "size": 10,
              "solidity": 0.2
             }
            },
            "type": "bar"
           }
          ],
          "barpolar": [
           {
            "marker": {
             "line": {
              "color": "#E5ECF6",
              "width": 0.5
             },
             "pattern": {
              "fillmode": "overlay",
              "size": 10,
              "solidity": 0.2
             }
            },
            "type": "barpolar"
           }
          ],
          "carpet": [
           {
            "aaxis": {
             "endlinecolor": "#2a3f5f",
             "gridcolor": "white",
             "linecolor": "white",
             "minorgridcolor": "white",
             "startlinecolor": "#2a3f5f"
            },
            "baxis": {
             "endlinecolor": "#2a3f5f",
             "gridcolor": "white",
             "linecolor": "white",
             "minorgridcolor": "white",
             "startlinecolor": "#2a3f5f"
            },
            "type": "carpet"
           }
          ],
          "choropleth": [
           {
            "colorbar": {
             "outlinewidth": 0,
             "ticks": ""
            },
            "type": "choropleth"
           }
          ],
          "contour": [
           {
            "colorbar": {
             "outlinewidth": 0,
             "ticks": ""
            },
            "colorscale": [
             [
              0,
              "#0d0887"
             ],
             [
              0.1111111111111111,
              "#46039f"
             ],
             [
              0.2222222222222222,
              "#7201a8"
             ],
             [
              0.3333333333333333,
              "#9c179e"
             ],
             [
              0.4444444444444444,
              "#bd3786"
             ],
             [
              0.5555555555555556,
              "#d8576b"
             ],
             [
              0.6666666666666666,
              "#ed7953"
             ],
             [
              0.7777777777777778,
              "#fb9f3a"
             ],
             [
              0.8888888888888888,
              "#fdca26"
             ],
             [
              1,
              "#f0f921"
             ]
            ],
            "type": "contour"
           }
          ],
          "contourcarpet": [
           {
            "colorbar": {
             "outlinewidth": 0,
             "ticks": ""
            },
            "type": "contourcarpet"
           }
          ],
          "heatmap": [
           {
            "colorbar": {
             "outlinewidth": 0,
             "ticks": ""
            },
            "colorscale": [
             [
              0,
              "#0d0887"
             ],
             [
              0.1111111111111111,
              "#46039f"
             ],
             [
              0.2222222222222222,
              "#7201a8"
             ],
             [
              0.3333333333333333,
              "#9c179e"
             ],
             [
              0.4444444444444444,
              "#bd3786"
             ],
             [
              0.5555555555555556,
              "#d8576b"
             ],
             [
              0.6666666666666666,
              "#ed7953"
             ],
             [
              0.7777777777777778,
              "#fb9f3a"
             ],
             [
              0.8888888888888888,
              "#fdca26"
             ],
             [
              1,
              "#f0f921"
             ]
            ],
            "type": "heatmap"
           }
          ],
          "heatmapgl": [
           {
            "colorbar": {
             "outlinewidth": 0,
             "ticks": ""
            },
            "colorscale": [
             [
              0,
              "#0d0887"
             ],
             [
              0.1111111111111111,
              "#46039f"
             ],
             [
              0.2222222222222222,
              "#7201a8"
             ],
             [
              0.3333333333333333,
              "#9c179e"
             ],
             [
              0.4444444444444444,
              "#bd3786"
             ],
             [
              0.5555555555555556,
              "#d8576b"
             ],
             [
              0.6666666666666666,
              "#ed7953"
             ],
             [
              0.7777777777777778,
              "#fb9f3a"
             ],
             [
              0.8888888888888888,
              "#fdca26"
             ],
             [
              1,
              "#f0f921"
             ]
            ],
            "type": "heatmapgl"
           }
          ],
          "histogram": [
           {
            "marker": {
             "pattern": {
              "fillmode": "overlay",
              "size": 10,
              "solidity": 0.2
             }
            },
            "type": "histogram"
           }
          ],
          "histogram2d": [
           {
            "colorbar": {
             "outlinewidth": 0,
             "ticks": ""
            },
            "colorscale": [
             [
              0,
              "#0d0887"
             ],
             [
              0.1111111111111111,
              "#46039f"
             ],
             [
              0.2222222222222222,
              "#7201a8"
             ],
             [
              0.3333333333333333,
              "#9c179e"
             ],
             [
              0.4444444444444444,
              "#bd3786"
             ],
             [
              0.5555555555555556,
              "#d8576b"
             ],
             [
              0.6666666666666666,
              "#ed7953"
             ],
             [
              0.7777777777777778,
              "#fb9f3a"
             ],
             [
              0.8888888888888888,
              "#fdca26"
             ],
             [
              1,
              "#f0f921"
             ]
            ],
            "type": "histogram2d"
           }
          ],
          "histogram2dcontour": [
           {
            "colorbar": {
             "outlinewidth": 0,
             "ticks": ""
            },
            "colorscale": [
             [
              0,
              "#0d0887"
             ],
             [
              0.1111111111111111,
              "#46039f"
             ],
             [
              0.2222222222222222,
              "#7201a8"
             ],
             [
              0.3333333333333333,
              "#9c179e"
             ],
             [
              0.4444444444444444,
              "#bd3786"
             ],
             [
              0.5555555555555556,
              "#d8576b"
             ],
             [
              0.6666666666666666,
              "#ed7953"
             ],
             [
              0.7777777777777778,
              "#fb9f3a"
             ],
             [
              0.8888888888888888,
              "#fdca26"
             ],
             [
              1,
              "#f0f921"
             ]
            ],
            "type": "histogram2dcontour"
           }
          ],
          "mesh3d": [
           {
            "colorbar": {
             "outlinewidth": 0,
             "ticks": ""
            },
            "type": "mesh3d"
           }
          ],
          "parcoords": [
           {
            "line": {
             "colorbar": {
              "outlinewidth": 0,
              "ticks": ""
             }
            },
            "type": "parcoords"
           }
          ],
          "pie": [
           {
            "automargin": true,
            "type": "pie"
           }
          ],
          "scatter": [
           {
            "fillpattern": {
             "fillmode": "overlay",
             "size": 10,
             "solidity": 0.2
            },
            "type": "scatter"
           }
          ],
          "scatter3d": [
           {
            "line": {
             "colorbar": {
              "outlinewidth": 0,
              "ticks": ""
             }
            },
            "marker": {
             "colorbar": {
              "outlinewidth": 0,
              "ticks": ""
             }
            },
            "type": "scatter3d"
           }
          ],
          "scattercarpet": [
           {
            "marker": {
             "colorbar": {
              "outlinewidth": 0,
              "ticks": ""
             }
            },
            "type": "scattercarpet"
           }
          ],
          "scattergeo": [
           {
            "marker": {
             "colorbar": {
              "outlinewidth": 0,
              "ticks": ""
             }
            },
            "type": "scattergeo"
           }
          ],
          "scattergl": [
           {
            "marker": {
             "colorbar": {
              "outlinewidth": 0,
              "ticks": ""
             }
            },
            "type": "scattergl"
           }
          ],
          "scattermapbox": [
           {
            "marker": {
             "colorbar": {
              "outlinewidth": 0,
              "ticks": ""
             }
            },
            "type": "scattermapbox"
           }
          ],
          "scatterpolar": [
           {
            "marker": {
             "colorbar": {
              "outlinewidth": 0,
              "ticks": ""
             }
            },
            "type": "scatterpolar"
           }
          ],
          "scatterpolargl": [
           {
            "marker": {
             "colorbar": {
              "outlinewidth": 0,
              "ticks": ""
             }
            },
            "type": "scatterpolargl"
           }
          ],
          "scatterternary": [
           {
            "marker": {
             "colorbar": {
              "outlinewidth": 0,
              "ticks": ""
             }
            },
            "type": "scatterternary"
           }
          ],
          "surface": [
           {
            "colorbar": {
             "outlinewidth": 0,
             "ticks": ""
            },
            "colorscale": [
             [
              0,
              "#0d0887"
             ],
             [
              0.1111111111111111,
              "#46039f"
             ],
             [
              0.2222222222222222,
              "#7201a8"
             ],
             [
              0.3333333333333333,
              "#9c179e"
             ],
             [
              0.4444444444444444,
              "#bd3786"
             ],
             [
              0.5555555555555556,
              "#d8576b"
             ],
             [
              0.6666666666666666,
              "#ed7953"
             ],
             [
              0.7777777777777778,
              "#fb9f3a"
             ],
             [
              0.8888888888888888,
              "#fdca26"
             ],
             [
              1,
              "#f0f921"
             ]
            ],
            "type": "surface"
           }
          ],
          "table": [
           {
            "cells": {
             "fill": {
              "color": "#EBF0F8"
             },
             "line": {
              "color": "white"
             }
            },
            "header": {
             "fill": {
              "color": "#C8D4E3"
             },
             "line": {
              "color": "white"
             }
            },
            "type": "table"
           }
          ]
         },
         "layout": {
          "annotationdefaults": {
           "arrowcolor": "#2a3f5f",
           "arrowhead": 0,
           "arrowwidth": 1
          },
          "autotypenumbers": "strict",
          "coloraxis": {
           "colorbar": {
            "outlinewidth": 0,
            "ticks": ""
           }
          },
          "colorscale": {
           "diverging": [
            [
             0,
             "#8e0152"
            ],
            [
             0.1,
             "#c51b7d"
            ],
            [
             0.2,
             "#de77ae"
            ],
            [
             0.3,
             "#f1b6da"
            ],
            [
             0.4,
             "#fde0ef"
            ],
            [
             0.5,
             "#f7f7f7"
            ],
            [
             0.6,
             "#e6f5d0"
            ],
            [
             0.7,
             "#b8e186"
            ],
            [
             0.8,
             "#7fbc41"
            ],
            [
             0.9,
             "#4d9221"
            ],
            [
             1,
             "#276419"
            ]
           ],
           "sequential": [
            [
             0,
             "#0d0887"
            ],
            [
             0.1111111111111111,
             "#46039f"
            ],
            [
             0.2222222222222222,
             "#7201a8"
            ],
            [
             0.3333333333333333,
             "#9c179e"
            ],
            [
             0.4444444444444444,
             "#bd3786"
            ],
            [
             0.5555555555555556,
             "#d8576b"
            ],
            [
             0.6666666666666666,
             "#ed7953"
            ],
            [
             0.7777777777777778,
             "#fb9f3a"
            ],
            [
             0.8888888888888888,
             "#fdca26"
            ],
            [
             1,
             "#f0f921"
            ]
           ],
           "sequentialminus": [
            [
             0,
             "#0d0887"
            ],
            [
             0.1111111111111111,
             "#46039f"
            ],
            [
             0.2222222222222222,
             "#7201a8"
            ],
            [
             0.3333333333333333,
             "#9c179e"
            ],
            [
             0.4444444444444444,
             "#bd3786"
            ],
            [
             0.5555555555555556,
             "#d8576b"
            ],
            [
             0.6666666666666666,
             "#ed7953"
            ],
            [
             0.7777777777777778,
             "#fb9f3a"
            ],
            [
             0.8888888888888888,
             "#fdca26"
            ],
            [
             1,
             "#f0f921"
            ]
           ]
          },
          "colorway": [
           "#636efa",
           "#EF553B",
           "#00cc96",
           "#ab63fa",
           "#FFA15A",
           "#19d3f3",
           "#FF6692",
           "#B6E880",
           "#FF97FF",
           "#FECB52"
          ],
          "font": {
           "color": "#2a3f5f"
          },
          "geo": {
           "bgcolor": "white",
           "lakecolor": "white",
           "landcolor": "#E5ECF6",
           "showlakes": true,
           "showland": true,
           "subunitcolor": "white"
          },
          "hoverlabel": {
           "align": "left"
          },
          "hovermode": "closest",
          "mapbox": {
           "style": "light"
          },
          "paper_bgcolor": "white",
          "plot_bgcolor": "#E5ECF6",
          "polar": {
           "angularaxis": {
            "gridcolor": "white",
            "linecolor": "white",
            "ticks": ""
           },
           "bgcolor": "#E5ECF6",
           "radialaxis": {
            "gridcolor": "white",
            "linecolor": "white",
            "ticks": ""
           }
          },
          "scene": {
           "xaxis": {
            "backgroundcolor": "#E5ECF6",
            "gridcolor": "white",
            "gridwidth": 2,
            "linecolor": "white",
            "showbackground": true,
            "ticks": "",
            "zerolinecolor": "white"
           },
           "yaxis": {
            "backgroundcolor": "#E5ECF6",
            "gridcolor": "white",
            "gridwidth": 2,
            "linecolor": "white",
            "showbackground": true,
            "ticks": "",
            "zerolinecolor": "white"
           },
           "zaxis": {
            "backgroundcolor": "#E5ECF6",
            "gridcolor": "white",
            "gridwidth": 2,
            "linecolor": "white",
            "showbackground": true,
            "ticks": "",
            "zerolinecolor": "white"
           }
          },
          "shapedefaults": {
           "line": {
            "color": "#2a3f5f"
           }
          },
          "ternary": {
           "aaxis": {
            "gridcolor": "white",
            "linecolor": "white",
            "ticks": ""
           },
           "baxis": {
            "gridcolor": "white",
            "linecolor": "white",
            "ticks": ""
           },
           "bgcolor": "#E5ECF6",
           "caxis": {
            "gridcolor": "white",
            "linecolor": "white",
            "ticks": ""
           }
          },
          "title": {
           "x": 0.05
          },
          "xaxis": {
           "automargin": true,
           "gridcolor": "white",
           "linecolor": "white",
           "ticks": "",
           "title": {
            "standoff": 15
           },
           "zerolinecolor": "white",
           "zerolinewidth": 2
          },
          "yaxis": {
           "automargin": true,
           "gridcolor": "white",
           "linecolor": "white",
           "ticks": "",
           "title": {
            "standoff": 15
           },
           "zerolinecolor": "white",
           "zerolinewidth": 2
          }
         }
        },
        "title": {
         "text": "Entwicklung der Beschäftigungsanteile nach Geschlecht und Gesamt (2009-2019)"
        },
        "xaxis": {
         "anchor": "y",
         "domain": [
          0,
          1
         ],
         "title": {
          "text": "Jahr"
         }
        },
        "yaxis": {
         "anchor": "x",
         "domain": [
          0,
          1
         ],
         "title": {
          "text": "Beschäftigungsanteil (%)"
         }
        }
       }
      }
     },
     "metadata": {},
     "output_type": "display_data"
    }
   ],
   "source": [
    "fig = empshare_with_total.plot.line(\n",
    "    title=\"Entwicklung der Beschäftigungsanteile nach Geschlecht und Gesamt (2009-2019)\"\n",
    ")\n",
    "\n",
    "fig.update_layout(\n",
    "    xaxis_title=\"Jahr\",\n",
    "    yaxis_title=\"Beschäftigungsanteil (%)\",\n",
    "    showlegend=True\n",
    ")\n",
    "\n",
    "\n",
    "\n",
    "fig.show()"
   ]
  }
 ],
 "metadata": {
  "kernelspec": {
   "display_name": "base",
   "language": "python",
   "name": "python3"
  },
  "language_info": {
   "codemirror_mode": {
    "name": "ipython",
    "version": 3
   },
   "file_extension": ".py",
   "mimetype": "text/x-python",
   "name": "python",
   "nbconvert_exporter": "python",
   "pygments_lexer": "ipython3",
   "version": "3.12.4"
  }
 },
 "nbformat": 4,
 "nbformat_minor": 5
}
